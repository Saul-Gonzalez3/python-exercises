{
 "cells": [
  {
   "cell_type": "code",
   "execution_count": 14,
   "id": "5cb765bf-30ff-489d-a0a6-e28beed719fb",
   "metadata": {
    "tags": []
   },
   "outputs": [
    {
     "name": "stdin",
     "output_type": "stream",
     "text": [
      "Give me a day of the week lowercase:  tuesday\n"
     ]
    },
    {
     "name": "stdout",
     "output_type": "stream",
     "text": [
      "You've given me tuesday\n"
     ]
    }
   ],
   "source": [
    "#Prompt the user for a day of the week, print out whether the day is Monday or not\n",
    "\n",
    "week = str(input(\"Give me a day of the week lowercase: \"))\n",
    "if week == \"monday\":\n",
    "    print(\"Yes, you've given me Monday\")\n",
    "else:\n",
    "    print(f\"You've given me {week}\")"
   ]
  },
  {
   "cell_type": "code",
   "execution_count": 19,
   "id": "6c9a6a42-a938-4340-a468-6cc8e5c9671d",
   "metadata": {
    "tags": []
   },
   "outputs": [
    {
     "name": "stdin",
     "output_type": "stream",
     "text": [
      "Give me a day of the week lowercase:  friday\n"
     ]
    },
    {
     "name": "stdout",
     "output_type": "stream",
     "text": [
      "You've given me friday, a weekday\n"
     ]
    }
   ],
   "source": [
    "#Prompt the user for a day of the week, print out whether the day is a weekday or a weekend\n",
    "\n",
    "week = str(input(\"Give me a day of the week lowercase: \"))\n",
    "if week in [\"saturday\", \"sunday\"]:\n",
    "    print(f\"Ah, {week} is a weekend type of day\")\n",
    "else:\n",
    "    print(f\"You've given me {week}, a weekday\")"
   ]
  },
  {
   "cell_type": "code",
   "execution_count": 33,
   "id": "094be1f7-2df2-4821-8d94-d16958013af5",
   "metadata": {
    "tags": []
   },
   "outputs": [
    {
     "name": "stdin",
     "output_type": "stream",
     "text": [
      "How many hours worked?  41\n"
     ]
    },
    {
     "name": "stdout",
     "output_type": "stream",
     "text": [
      "2075.0\n"
     ]
    }
   ],
   "source": [
    "#Calculate a weekly paycheck\n",
    "hours_worked = int(input(\"How many hours worked? \"))\n",
    "weekly_paycheck = 0\n",
    "hourly_rate = 50\n",
    "if hours_worked <= 40:\n",
    "    weekly_paycheck = hours_worked * hourly_rate\n",
    "elif hours_worked > 40:\n",
    "    weekly_paycheck = (hourly_rate * 40) + ((hours_worked - 40) * (hourly_rate * 1.5))\n",
    "print(weekly_paycheck)\n",
    "\n"
   ]
  },
  {
   "cell_type": "code",
   "execution_count": 3,
   "id": "0bc88bed-939c-4dbd-945b-60128f232e08",
   "metadata": {
    "tags": []
   },
   "outputs": [
    {
     "name": "stdout",
     "output_type": "stream",
     "text": [
      "5\n",
      "6\n",
      "7\n",
      "8\n",
      "9\n",
      "10\n",
      "11\n",
      "12\n",
      "13\n",
      "14\n",
      "15\n"
     ]
    }
   ],
   "source": [
    "#Create an integer variable i with a value of 5. Create a while loop that runs so long as i is less than or equal to 15. Each loop iteration, output the current value of i, then increment i by one.\n",
    "\n",
    "i = 5\n",
    "limit = 16\n",
    "while i < limit:\n",
    "    print(i)\n",
    "    i += 1\n",
    "    "
   ]
  },
  {
   "cell_type": "code",
   "execution_count": 2,
   "id": "6fe1be1f-e6da-4e51-8a89-d4f77c797a8c",
   "metadata": {},
   "outputs": [
    {
     "name": "stdout",
     "output_type": "stream",
     "text": [
      "0\n",
      "2\n",
      "4\n",
      "6\n",
      "8\n",
      "10\n",
      "12\n",
      "14\n",
      "16\n",
      "18\n",
      "20\n",
      "22\n",
      "24\n",
      "26\n",
      "28\n",
      "30\n",
      "32\n",
      "34\n",
      "36\n",
      "38\n",
      "40\n",
      "42\n",
      "44\n",
      "46\n",
      "48\n",
      "50\n",
      "52\n",
      "54\n",
      "56\n",
      "58\n",
      "60\n",
      "62\n",
      "64\n",
      "66\n",
      "68\n",
      "70\n",
      "72\n",
      "74\n",
      "76\n",
      "78\n",
      "80\n",
      "82\n",
      "84\n",
      "86\n",
      "88\n",
      "90\n",
      "92\n",
      "94\n",
      "96\n",
      "98\n",
      "100\n"
     ]
    }
   ],
   "source": [
    "#Create a while loop that will count by 2's starting with 0 and ending at 100. Follow each number with a new line.\n",
    "\n",
    "count = 0\n",
    "while count < 101:\n",
    "    print(count)\n",
    "    count += 2\n",
    "    "
   ]
  },
  {
   "cell_type": "code",
   "execution_count": 11,
   "id": "50a84c59-64e1-4ca9-a7dc-b9197162cf90",
   "metadata": {},
   "outputs": [
    {
     "name": "stdout",
     "output_type": "stream",
     "text": [
      "2\n",
      "4\n",
      "16\n",
      "256\n",
      "65536\n"
     ]
    }
   ],
   "source": [
    "#Create a while loop that starts at 2, and displays the number \n",
    "#squared on each line while the number is less than 1,000,000\n",
    "\n",
    "count = 2\n",
    "while count <= 1000000:\n",
    "    print(count)\n",
    "    count = count * count\n",
    "    if count <= 1000000:\n",
    "        continue\n",
    "    \n",
    "    "
   ]
  },
  {
   "cell_type": "code",
   "execution_count": null,
   "id": "6e614166-b21d-4aaa-8703-e6abe3800343",
   "metadata": {},
   "outputs": [],
   "source": [
    "#Write a while loop that uses print to create the output shown below.\n",
    "#\n",
    "#100\n",
    "#95\n",
    "#90\n",
    "#85\n",
    "#80\n",
    "#75\n",
    "#70\n",
    "#65\n",
    "#60\n",
    "#55\n",
    "#50\n",
    "#45\n",
    "#40\n",
    "#35\n",
    "#30\n",
    "#25\n",
    "#20\n",
    "#15\n",
    "#10\n",
    "#5\n",
    "#"
   ]
  },
  {
   "cell_type": "code",
   "execution_count": 15,
   "id": "29976a1f-3474-41eb-960e-68426db6755f",
   "metadata": {
    "tags": []
   },
   "outputs": [
    {
     "name": "stdout",
     "output_type": "stream",
     "text": [
      "100\n",
      "95\n",
      "90\n",
      "85\n",
      "80\n",
      "75\n",
      "70\n",
      "65\n",
      "60\n",
      "55\n",
      "50\n",
      "45\n",
      "40\n",
      "35\n",
      "30\n",
      "25\n",
      "20\n",
      "15\n",
      "10\n",
      "5\n"
     ]
    }
   ],
   "source": [
    "count = 100\n",
    "while count <= 100:\n",
    "    print(count)\n",
    "    count -=5\n",
    "    if count < 5:\n",
    "        break"
   ]
  },
  {
   "cell_type": "code",
   "execution_count": 17,
   "id": "9fc40e87-5f89-4632-bbe2-eb9c78154f33",
   "metadata": {
    "tags": []
   },
   "outputs": [
    {
     "name": "stdin",
     "output_type": "stream",
     "text": [
      "Enter a number from 1-10:  2\n"
     ]
    },
    {
     "name": "stdout",
     "output_type": "stream",
     "text": [
      "2 x 1 = 2\n",
      "2 x 2 = 4\n",
      "2 x 3 = 6\n",
      "2 x 4 = 8\n",
      "2 x 5 = 10\n",
      "2 x 6 = 12\n",
      "2 x 7 = 14\n",
      "2 x 8 = 16\n",
      "2 x 9 = 18\n",
      "2 x 10 = 20\n"
     ]
    }
   ],
   "source": [
    "#Write some code using a for loop that prompts the user for a number, then shows a multiplication table up through 10 for that number.\n",
    "\n",
    "numb = int(input(\"Enter a number from 1-10: \"))\n",
    "\n",
    "iterable = [1,2,3,4,5,6,7,8,9,10]\n",
    "\n",
    "for n in iterable:\n",
    "    a = numb * n\n",
    "    print(numb, \"x\", n, \"=\", a)\n",
    "    "
   ]
  },
  {
   "cell_type": "code",
   "execution_count": null,
   "id": "0a6ad609-f697-4492-a74e-868418233e4e",
   "metadata": {},
   "outputs": [],
   "source": [
    "#Create a for loop that uses print to create the output shown below.\n",
    "#\n",
    "#1\n",
    "#22\n",
    "#333\n",
    "#4444\n",
    "#55555\n",
    "#666666\n",
    "#7777777\n",
    "#88888888\n",
    "#999999999\n"
   ]
  },
  {
   "cell_type": "code",
   "execution_count": 36,
   "id": "ba23319c-6934-45f4-938b-765250485655",
   "metadata": {
    "tags": []
   },
   "outputs": [
    {
     "name": "stdout",
     "output_type": "stream",
     "text": [
      "1\n",
      "22\n",
      "333\n",
      "4444\n",
      "55555\n",
      "666666\n",
      "7777777\n",
      "88888888\n",
      "999999999\n"
     ]
    }
   ],
   "source": [
    "counter = 1\n",
    "\n",
    "for n in range(1,10,1):\n",
    "    num_string = str(n)\n",
    "    final_result = num_string * counter\n",
    "    print(final_result)\n",
    "    counter +=1\n",
    "    "
   ]
  },
  {
   "cell_type": "code",
   "execution_count": 40,
   "id": "a213187d-9d58-4faf-8d87-cc21f8e67159",
   "metadata": {
    "tags": []
   },
   "outputs": [
    {
     "name": "stdin",
     "output_type": "stream",
     "text": [
      "Enter a positive integer from 1-10:  7\n"
     ]
    },
    {
     "name": "stdout",
     "output_type": "stream",
     "text": [
      "7\n",
      "6\n",
      "5\n",
      "4\n",
      "3\n",
      "2\n",
      "1\n"
     ]
    }
   ],
   "source": [
    "#Write a program that prompts the user for a positive integer. Next write a loop that prints out the numbers from the number the user entered down to 1\n",
    "counter = 0\n",
    "user_input = int(input(\"Enter a positive integer from 1-10: \"))\n",
    "counter = counter + user_input\n",
    "\n",
    "while counter > 0:\n",
    "    print(counter)\n",
    "    counter -= 1\n",
    "\n",
    "    #teacher's version: way quicker\n",
    "#for i in range(numb, 0, -1):\n",
    "#    print(i)"
   ]
  },
  {
   "cell_type": "code",
   "execution_count": 41,
   "id": "d9adaf41-fcf7-48ee-b911-c7aecaa206bd",
   "metadata": {
    "tags": []
   },
   "outputs": [
    {
     "name": "stdin",
     "output_type": "stream",
     "text": [
      "Enter a positive integer from 1-20:  13\n"
     ]
    },
    {
     "name": "stdout",
     "output_type": "stream",
     "text": [
      "0\n",
      "1\n",
      "2\n",
      "3\n",
      "4\n",
      "5\n",
      "6\n",
      "7\n",
      "8\n",
      "9\n",
      "10\n",
      "11\n",
      "12\n",
      "13\n"
     ]
    }
   ],
   "source": [
    "#ii. Prompt the user to enter a positive number and write a loop that counts from 0 to that number.\n",
    "counter = 0\n",
    "user_input = int(input(\"Enter a positive integer from 1-20: \"))\n",
    "\n",
    "while counter <= user_input:\n",
    "    print(counter)\n",
    "    counter += 1\n",
    "    \n",
    "#teacher's version: way quicker\n",
    "#for i in range(numb+1):\n",
    "#    print(i)"
   ]
  },
  {
   "cell_type": "code",
   "execution_count": null,
   "id": "937c1adc-2ba9-43e5-9b76-becc22025578",
   "metadata": {},
   "outputs": [],
   "source": [
    "#Prompt the user for an odd number between 1 and 50.\n",
    "#Use a loop and a break statement to continue prompting the user if they enter invalid input.\n",
    "#(Hint: use the isdigit method on strings to determine this).\n",
    "#Use a loop and the continue statement to output all the odd numbers between 1 and 50,\n",
    "#except for the number the user entered.\n",
    "\n",
    "#Your output should look like this:\n",
    "\n",
    "Number to skip is: 27\n",
    "\n",
    "Here is an odd number: 1\n",
    "Here is an odd number: 3\n",
    "Here is an odd number: 5\n",
    "Here is an odd number: 7\n",
    "Here is an odd number: 9\n",
    "Here is an odd number: 11\n",
    "Here is an odd number: 13\n",
    "Here is an odd number: 15\n",
    "Here is an odd number: 17\n",
    "Here is an odd number: 19\n",
    "Here is an odd number: 21\n",
    "Here is an odd number: 23\n",
    "Here is an odd number: 25\n",
    "Yikes! Skipping number: 27\n",
    "Here is an odd number: 29\n",
    "Here is an odd number: 31\n",
    "Here is an odd number: 33\n",
    "Here is an odd number: 35\n",
    "Here is an odd number: 37\n",
    "Here is an odd number: 39\n",
    "Here is an odd number: 41\n",
    "Here is an odd number: 43\n",
    "Here is an odd number: 45\n",
    "Here is an odd number: 47\n",
    "Here is an odd number: 49\n"
   ]
  },
  {
   "cell_type": "code",
   "execution_count": 36,
   "id": "6eed962a-03d3-4ddf-b2e7-a2507615b117",
   "metadata": {
    "tags": []
   },
   "outputs": [
    {
     "name": "stdin",
     "output_type": "stream",
     "text": [
      "Give me an odd integer between 1 and 50:  60\n",
      "Give me a 'ODD' integer between 1 and 50:  61\n"
     ]
    },
    {
     "ename": "KeyboardInterrupt",
     "evalue": "Interrupted by user",
     "output_type": "error",
     "traceback": [
      "\u001b[0;31m---------------------------------------------------------------------------\u001b[0m",
      "\u001b[0;31mKeyboardInterrupt\u001b[0m                         Traceback (most recent call last)",
      "Cell \u001b[0;32mIn[36], line 9\u001b[0m\n\u001b[1;32m      7\u001b[0m     odd_num \u001b[38;5;241m=\u001b[39m \u001b[38;5;28mint\u001b[39m(\u001b[38;5;28minput\u001b[39m(\u001b[38;5;124m\"\u001b[39m\u001b[38;5;124mGive me a \u001b[39m\u001b[38;5;124m'\u001b[39m\u001b[38;5;124mODD\u001b[39m\u001b[38;5;124m'\u001b[39m\u001b[38;5;124m integer between 1 and 50: \u001b[39m\u001b[38;5;124m\"\u001b[39m))\n\u001b[1;32m      8\u001b[0m \u001b[38;5;28;01melif\u001b[39;00m odd_num \u001b[38;5;241m>\u001b[39m \u001b[38;5;241m50\u001b[39m:\n\u001b[0;32m----> 9\u001b[0m     odd_num \u001b[38;5;241m=\u001b[39m \u001b[38;5;28mint\u001b[39m(\u001b[38;5;28minput\u001b[39m(\u001b[38;5;124m\"\u001b[39m\u001b[38;5;124mGive me a SMALLER odd integer, between 1 and 50: \u001b[39m\u001b[38;5;124m\"\u001b[39m))\n\u001b[1;32m     10\u001b[0m \u001b[38;5;28;01melif\u001b[39;00m odd_num \u001b[38;5;241m<\u001b[39m \u001b[38;5;241m1\u001b[39m:\n\u001b[1;32m     11\u001b[0m     odd_num \u001b[38;5;241m=\u001b[39m \u001b[38;5;28mint\u001b[39m(\u001b[38;5;28minput\u001b[39m(\u001b[38;5;124m\"\u001b[39m\u001b[38;5;124mGive me a LARGER odd integer, between 1 and 50: \u001b[39m\u001b[38;5;124m\"\u001b[39m))\n",
      "File \u001b[0;32m/opt/homebrew/anaconda3/lib/python3.11/site-packages/ipykernel/kernelbase.py:1175\u001b[0m, in \u001b[0;36mKernel.raw_input\u001b[0;34m(self, prompt)\u001b[0m\n\u001b[1;32m   1171\u001b[0m \u001b[38;5;28;01mif\u001b[39;00m \u001b[38;5;129;01mnot\u001b[39;00m \u001b[38;5;28mself\u001b[39m\u001b[38;5;241m.\u001b[39m_allow_stdin:\n\u001b[1;32m   1172\u001b[0m     \u001b[38;5;28;01mraise\u001b[39;00m StdinNotImplementedError(\n\u001b[1;32m   1173\u001b[0m         \u001b[38;5;124m\"\u001b[39m\u001b[38;5;124mraw_input was called, but this frontend does not support input requests.\u001b[39m\u001b[38;5;124m\"\u001b[39m\n\u001b[1;32m   1174\u001b[0m     )\n\u001b[0;32m-> 1175\u001b[0m \u001b[38;5;28;01mreturn\u001b[39;00m \u001b[38;5;28mself\u001b[39m\u001b[38;5;241m.\u001b[39m_input_request(\n\u001b[1;32m   1176\u001b[0m     \u001b[38;5;28mstr\u001b[39m(prompt),\n\u001b[1;32m   1177\u001b[0m     \u001b[38;5;28mself\u001b[39m\u001b[38;5;241m.\u001b[39m_parent_ident[\u001b[38;5;124m\"\u001b[39m\u001b[38;5;124mshell\u001b[39m\u001b[38;5;124m\"\u001b[39m],\n\u001b[1;32m   1178\u001b[0m     \u001b[38;5;28mself\u001b[39m\u001b[38;5;241m.\u001b[39mget_parent(\u001b[38;5;124m\"\u001b[39m\u001b[38;5;124mshell\u001b[39m\u001b[38;5;124m\"\u001b[39m),\n\u001b[1;32m   1179\u001b[0m     password\u001b[38;5;241m=\u001b[39m\u001b[38;5;28;01mFalse\u001b[39;00m,\n\u001b[1;32m   1180\u001b[0m )\n",
      "File \u001b[0;32m/opt/homebrew/anaconda3/lib/python3.11/site-packages/ipykernel/kernelbase.py:1217\u001b[0m, in \u001b[0;36mKernel._input_request\u001b[0;34m(self, prompt, ident, parent, password)\u001b[0m\n\u001b[1;32m   1214\u001b[0m             \u001b[38;5;28;01mbreak\u001b[39;00m\n\u001b[1;32m   1215\u001b[0m \u001b[38;5;28;01mexcept\u001b[39;00m \u001b[38;5;167;01mKeyboardInterrupt\u001b[39;00m:\n\u001b[1;32m   1216\u001b[0m     \u001b[38;5;66;03m# re-raise KeyboardInterrupt, to truncate traceback\u001b[39;00m\n\u001b[0;32m-> 1217\u001b[0m     \u001b[38;5;28;01mraise\u001b[39;00m \u001b[38;5;167;01mKeyboardInterrupt\u001b[39;00m(\u001b[38;5;124m\"\u001b[39m\u001b[38;5;124mInterrupted by user\u001b[39m\u001b[38;5;124m\"\u001b[39m) \u001b[38;5;28;01mfrom\u001b[39;00m \u001b[38;5;28;01mNone\u001b[39;00m\n\u001b[1;32m   1218\u001b[0m \u001b[38;5;28;01mexcept\u001b[39;00m \u001b[38;5;167;01mException\u001b[39;00m:\n\u001b[1;32m   1219\u001b[0m     \u001b[38;5;28mself\u001b[39m\u001b[38;5;241m.\u001b[39mlog\u001b[38;5;241m.\u001b[39mwarning(\u001b[38;5;124m\"\u001b[39m\u001b[38;5;124mInvalid Message:\u001b[39m\u001b[38;5;124m\"\u001b[39m, exc_info\u001b[38;5;241m=\u001b[39m\u001b[38;5;28;01mTrue\u001b[39;00m)\n",
      "\u001b[0;31mKeyboardInterrupt\u001b[0m: Interrupted by user"
     ]
    }
   ],
   "source": [
    "counter = 1\n",
    "odd_num = int(input(\"Give me an odd integer between 1 and 50: \"))\n",
    "limit = odd_num\n",
    "\n",
    "while True:\n",
    "    if odd_num % 2 == 0:\n",
    "        odd_num = int(input(\"Give me a 'ODD' integer between 1 and 50: \"))\n",
    "    elif odd_num > 50:\n",
    "        odd_num = int(input(\"Give me a SMALLER odd integer, between 1 and 50: \"))\n",
    "    elif odd_num < 1:\n",
    "        odd_num = int(input(\"Give me a LARGER odd integer, between 1 and 50: \"))\n",
    "    else:\n",
    "        print(f\"Number to skip is : {odd_num}\")\n",
    "        while counter <= 50:\n",
    "            print(f\"Here is an odd number: {counter}\")\n",
    "            counter += 2\n",
    "            if counter == odd_num:\n",
    "                print(f\"Yikes! Skipping number: {counter}\")\n",
    "                continue\n",
    "        break\n"
   ]
  },
  {
   "cell_type": "code",
   "execution_count": null,
   "id": "65d86f77-fd17-4128-94a2-13c77ad4fbae",
   "metadata": {},
   "outputs": [],
   "source": [
    "#Write a program that prints the numbers from 1 to 100.\n",
    "\n",
    "for n in range(1,101,1):\n",
    "    print(n)"
   ]
  },
  {
   "cell_type": "code",
   "execution_count": 65,
   "id": "49014633-d2bf-4fcb-969e-694f772d5d00",
   "metadata": {
    "tags": []
   },
   "outputs": [
    {
     "name": "stdout",
     "output_type": "stream",
     "text": [
      "1\n",
      "2\n",
      "Fizz\n",
      "4\n",
      "5\n",
      "Fizz\n",
      "7\n",
      "8\n",
      "Fizz\n",
      "10\n",
      "11\n",
      "Fizz\n",
      "13\n",
      "14\n",
      "Fizz\n",
      "16\n",
      "17\n",
      "Fizz\n",
      "19\n",
      "20\n",
      "Fizz\n",
      "22\n",
      "23\n",
      "Fizz\n",
      "25\n",
      "26\n",
      "Fizz\n",
      "28\n",
      "29\n",
      "Fizz\n",
      "31\n",
      "32\n",
      "Fizz\n",
      "34\n",
      "35\n",
      "Fizz\n",
      "37\n",
      "38\n",
      "Fizz\n",
      "40\n",
      "41\n",
      "Fizz\n",
      "43\n",
      "44\n",
      "Fizz\n",
      "46\n",
      "47\n",
      "Fizz\n",
      "49\n",
      "50\n",
      "Fizz\n",
      "52\n",
      "53\n",
      "Fizz\n",
      "55\n",
      "56\n",
      "Fizz\n",
      "58\n",
      "59\n",
      "Fizz\n",
      "61\n",
      "62\n",
      "Fizz\n",
      "64\n",
      "65\n",
      "Fizz\n",
      "67\n",
      "68\n",
      "Fizz\n",
      "70\n",
      "71\n",
      "Fizz\n",
      "73\n",
      "74\n",
      "Fizz\n",
      "76\n",
      "77\n",
      "Fizz\n",
      "79\n",
      "80\n",
      "Fizz\n",
      "82\n",
      "83\n",
      "Fizz\n",
      "85\n",
      "86\n",
      "Fizz\n",
      "88\n",
      "89\n",
      "Fizz\n",
      "91\n",
      "92\n",
      "Fizz\n",
      "94\n",
      "95\n",
      "Fizz\n",
      "97\n",
      "98\n",
      "Fizz\n",
      "100\n"
     ]
    }
   ],
   "source": [
    "#For multiples of three print \"Fizz\" instead of the number\n",
    "\n",
    "for n in range(1,101,1):\n",
    "    if n % 3 == 0:\n",
    "        print(\"Fizz\")\n",
    "    else:\n",
    "        print(n)\n",
    "        \n"
   ]
  },
  {
   "cell_type": "code",
   "execution_count": 67,
   "id": "36db9b1a-df19-48c2-b5d8-8b48b2da294d",
   "metadata": {
    "tags": []
   },
   "outputs": [
    {
     "name": "stdout",
     "output_type": "stream",
     "text": [
      "1\n",
      "2\n",
      "3\n",
      "4\n",
      "Buzz\n",
      "6\n",
      "7\n",
      "8\n",
      "9\n",
      "Buzz\n",
      "11\n",
      "12\n",
      "13\n",
      "14\n",
      "Buzz\n",
      "16\n",
      "17\n",
      "18\n",
      "19\n",
      "Buzz\n",
      "21\n",
      "22\n",
      "23\n",
      "24\n",
      "Buzz\n",
      "26\n",
      "27\n",
      "28\n",
      "29\n",
      "Buzz\n",
      "31\n",
      "32\n",
      "33\n",
      "34\n",
      "Buzz\n",
      "36\n",
      "37\n",
      "38\n",
      "39\n",
      "Buzz\n",
      "41\n",
      "42\n",
      "43\n",
      "44\n",
      "Buzz\n",
      "46\n",
      "47\n",
      "48\n",
      "49\n",
      "Buzz\n",
      "51\n",
      "52\n",
      "53\n",
      "54\n",
      "Buzz\n",
      "56\n",
      "57\n",
      "58\n",
      "59\n",
      "Buzz\n",
      "61\n",
      "62\n",
      "63\n",
      "64\n",
      "Buzz\n",
      "66\n",
      "67\n",
      "68\n",
      "69\n",
      "Buzz\n",
      "71\n",
      "72\n",
      "73\n",
      "74\n",
      "Buzz\n",
      "76\n",
      "77\n",
      "78\n",
      "79\n",
      "Buzz\n",
      "81\n",
      "82\n",
      "83\n",
      "84\n",
      "Buzz\n",
      "86\n",
      "87\n",
      "88\n",
      "89\n",
      "Buzz\n",
      "91\n",
      "92\n",
      "93\n",
      "94\n",
      "Buzz\n",
      "96\n",
      "97\n",
      "98\n",
      "99\n",
      "Buzz\n"
     ]
    }
   ],
   "source": [
    "#For the multiples of five print \"Buzz\".\n",
    "\n",
    "for n in range(1,101,1):\n",
    "    if n % 5 == 0:\n",
    "        print(\"Buzz\")\n",
    "    else:\n",
    "        print(n)"
   ]
  },
  {
   "cell_type": "code",
   "execution_count": 66,
   "id": "8a283571-5679-46b8-b0b5-b4fa893ce73a",
   "metadata": {
    "tags": []
   },
   "outputs": [
    {
     "name": "stdout",
     "output_type": "stream",
     "text": [
      "1\n",
      "2\n",
      "3\n",
      "4\n",
      "5\n",
      "6\n",
      "7\n",
      "8\n",
      "9\n",
      "10\n",
      "11\n",
      "12\n",
      "13\n",
      "14\n",
      "FizzBuzz\n",
      "16\n",
      "17\n",
      "18\n",
      "19\n",
      "20\n",
      "21\n",
      "22\n",
      "23\n",
      "24\n",
      "25\n",
      "26\n",
      "27\n",
      "28\n",
      "29\n",
      "FizzBuzz\n",
      "31\n",
      "32\n",
      "33\n",
      "34\n",
      "35\n",
      "36\n",
      "37\n",
      "38\n",
      "39\n",
      "40\n",
      "41\n",
      "42\n",
      "43\n",
      "44\n",
      "FizzBuzz\n",
      "46\n",
      "47\n",
      "48\n",
      "49\n",
      "50\n",
      "51\n",
      "52\n",
      "53\n",
      "54\n",
      "55\n",
      "56\n",
      "57\n",
      "58\n",
      "59\n",
      "FizzBuzz\n",
      "61\n",
      "62\n",
      "63\n",
      "64\n",
      "65\n",
      "66\n",
      "67\n",
      "68\n",
      "69\n",
      "70\n",
      "71\n",
      "72\n",
      "73\n",
      "74\n",
      "FizzBuzz\n",
      "76\n",
      "77\n",
      "78\n",
      "79\n",
      "80\n",
      "81\n",
      "82\n",
      "83\n",
      "84\n",
      "85\n",
      "86\n",
      "87\n",
      "88\n",
      "89\n",
      "FizzBuzz\n",
      "91\n",
      "92\n",
      "93\n",
      "94\n",
      "95\n",
      "96\n",
      "97\n",
      "98\n",
      "99\n",
      "100\n"
     ]
    }
   ],
   "source": [
    "#For numbers which are multiples of both three and five print \"FizzBuzz\"\n",
    "\n",
    "for n in range(1,101,1):\n",
    "    if n % 3 == 0 and n % 5 == 0:\n",
    "        print(\"FizzBuzz\")\n",
    "    else:\n",
    "        print(n)\n"
   ]
  },
  {
   "cell_type": "code",
   "execution_count": 135,
   "id": "f96626f5-cfb6-4821-a7ae-73f116e520c3",
   "metadata": {
    "tags": []
   },
   "outputs": [
    {
     "name": "stdin",
     "output_type": "stream",
     "text": [
      "Enter an integer:  5\n"
     ]
    },
    {
     "name": "stdout",
     "output_type": "stream",
     "text": [
      "\n",
      "Here is your table!\n",
      "number | squared | cubed\n",
      "------   -------   -----\n",
      "1      | 1       | 1\n",
      "2      | 4       | 8\n",
      "3      | 9       | 27\n",
      "4      | 16       | 64\n",
      "5      | 25       | 125\n"
     ]
    }
   ],
   "source": [
    "#Display a table of powers.\n",
    "\n",
    "#Prompt the user to enter an integer\n",
    "#Display a table of squares and cubes from 1 to the value entered\n",
    "#Ask if the user wants to continue\n",
    "#Assume that the user will enter valid data\n",
    "#Only continue if the user agrees to\n",
    "\n",
    "user_input = int(input(\"Enter an integer: \"))\n",
    "counter = 1\n",
    "num = counter\n",
    "square = counter * counter\n",
    "cubed = counter * counter * counter\n",
    "\n",
    "print(\"\\nHere is your table!\")\n",
    "print(\"number | squared | cubed\")\n",
    "print(\"------   -------   -----\") \n",
    "while counter <= user_input:\n",
    "    while counter <= user_input:\n",
    "        print(num,\"     |\",square,\"      |\",cubed) #do this up to the value entered, with a value in each category\n",
    "        counter += 1\n",
    "        num = counter\n",
    "        square = counter * counter\n",
    "        cubed = counter * counter * counter\n",
    "        \n",
    "    "
   ]
  },
  {
   "cell_type": "code",
   "execution_count": 41,
   "id": "8b1fff8f-98e3-4e98-b704-f03170470a72",
   "metadata": {
    "tags": []
   },
   "outputs": [
    {
     "name": "stdin",
     "output_type": "stream",
     "text": [
      "Give me a numerical grade from 0 to 100:  99\n"
     ]
    },
    {
     "name": "stdout",
     "output_type": "stream",
     "text": [
      "The letter grade is: A\n"
     ]
    },
    {
     "name": "stdin",
     "output_type": "stream",
     "text": [
      "If you have another grade, please enter a numerical grade from 0 to 100. Else, type 101:  101\n"
     ]
    },
    {
     "name": "stdout",
     "output_type": "stream",
     "text": [
      "Goodbye\n"
     ]
    }
   ],
   "source": [
    "#Convert given number grades into letter grades.\n",
    "#Prompt the user for a numerical grade from 0 to 100\n",
    "grade = int(input(\"Give me a numerical grade from 0 to 100: \"))\n",
    "\n",
    "\n",
    "\n",
    "\n",
    "A = (range(88,100,1))\n",
    "B = (range(80,87,1))\n",
    "C = (range(67,79,1))\n",
    "D = (range(60,66,1))\n",
    "F = (range(0,59,1))\n",
    "\n",
    "alphabet_grade = (A, B, C, D, F)\n",
    "\n",
    "#Display the corresponding letter grade\n",
    "if grade >= 88 and grade <=100:\n",
    "    print(\"The letter grade is: A\")\n",
    "elif grade >= 80 and grade <=87:\n",
    "    print(\"The letter grade is: B\")\n",
    "elif grade >= 67 and grade <=79:\n",
    "    print(\"The letter grade is: C\")\n",
    "elif grade >= 60 and grade <=66:\n",
    "    print(\"The letter grade is: D\")\n",
    "else:\n",
    "    print(\"The letter grade is: F\")\n",
    "\n",
    "#Prompt the user to continue\n",
    "\n",
    "while grade != 101:\n",
    "    grade = int(input(\"If you have another grade, please enter a numerical grade from 0 to 100. Else, type 101: \"))\n",
    "    if grade >= 88 and grade <=100:\n",
    "        print(\"The letter grade is: A\")\n",
    "    elif grade >= 80 and grade <=87:\n",
    "        print(\"The letter grade is: B\")\n",
    "    elif grade >= 67 and grade <=79:\n",
    "        print(\"The letter grade is: C\")\n",
    "    elif grade >= 60 and grade <=66:\n",
    "        print(\"The letter grade is: D\")\n",
    "    elif grade >= 0 and grade <=59:\n",
    "        print(\"The letter grade is: D\")\n",
    "    else:\n",
    "        print(\"Goodbye\")\n",
    "\n",
    "\n",
    "\n",
    "\n"
   ]
  },
  {
   "cell_type": "code",
   "execution_count": null,
   "id": "e1ada188-b10b-4066-9ac7-b4b945a7c598",
   "metadata": {},
   "outputs": [],
   "source": [
    "#Create a list of dictionaries where each dictionary represents a book that you have read. \n",
    "#Each dictionary in the list should have the keys title, author, and genre. \n",
    "#Loop through the list and print out information about each book.\n",
    "\n",
    "#Prompt the user to enter a genre, then loop through your books list and print out the titles of all the books in that genre."
   ]
  },
  {
   "cell_type": "code",
   "execution_count": 8,
   "id": "707d6823-24a0-4f04-b284-ba05791fbfe2",
   "metadata": {
    "tags": []
   },
   "outputs": [
    {
     "name": "stdout",
     "output_type": "stream",
     "text": [
      "{'Name': 'Way of Kings', 'Author': 'Brandon Sanderson', 'Genre': 'Epic Fantasy'}\n",
      "{'Name': 'The Dragon Reborn', 'Author': 'Robert Jordan', 'Genre': 'Epic Fantasy'}\n",
      "{'Name': 'Extreme Ownership', 'Author': 'Jocko Willink', 'Genre': 'Nonfiction'}\n",
      "{'Name': 'Cant Hurt Me', 'Author': 'David Goggins', 'Genre': 'Self-Help'}\n",
      "{'Name': 'Dune', 'Author': 'Frank Herbert', 'Genre': 'Science Fiction'}\n"
     ]
    }
   ],
   "source": [
    "#keys title, author, and genre\n",
    "books_i_read = [{'Name': 'Way of Kings', \"Author\":'Brandon Sanderson', 'Genre': 'Epic Fantasy'}, \n",
    "                {'Name': 'The Dragon Reborn', 'Author': 'Robert Jordan', 'Genre': 'Epic Fantasy'}, \n",
    "                {'Name': 'Extreme Ownership', 'Author': 'Jocko Willink', 'Genre': 'Nonfiction'}, \n",
    "                {'Name': 'Cant Hurt Me', 'Author': 'David Goggins', 'Genre': 'Self-Help'}, \n",
    "                {'Name': 'Dune', 'Author': 'Frank Herbert', 'Genre': 'Science Fiction'}]\n",
    "\n",
    "for key in books_i_read:\n",
    "    print(key)\n",
    "\n",
    "\n"
   ]
  },
  {
   "cell_type": "code",
   "execution_count": 47,
   "id": "4e7fb528-4128-465b-8663-6d813738df7c",
   "metadata": {
    "tags": []
   },
   "outputs": [
    {
     "name": "stdin",
     "output_type": "stream",
     "text": [
      "Enter a book genre:  Epic Fantasy\n"
     ]
    },
    {
     "name": "stdout",
     "output_type": "stream",
     "text": [
      "Way of Kings\n",
      "The Dragon Reborn\n"
     ]
    }
   ],
   "source": [
    "#Prompt the user to enter a genre, then loop through your books list and print out the titles of all the books in that genre.\n",
    "\n",
    "books_i_read = [{'Name': 'Way of Kings', \"Author\":'Brandon Sanderson', 'Genre': 'Epic Fantasy'}, \n",
    "                {'Name': 'The Dragon Reborn', 'Author': 'Robert Jordan', 'Genre': 'Epic Fantasy'}, \n",
    "                {'Name': 'Extreme Ownership', 'Author': 'Jocko Willink', 'Genre': 'Nonfiction'}, \n",
    "                {'Name': 'Cant Hurt Me', 'Author': 'David Goggins', 'Genre': 'Self-Help'}, \n",
    "                {'Name': 'Dune', 'Author': 'Frank Herbert', 'Genre': 'Science Fiction'}]\n",
    "\n",
    "genre_request = input(\"Enter a book genre: \" )\n",
    "\n",
    "\n",
    "for item in books_i_read:    \n",
    "    if genre_request == item['Genre']:\n",
    "        print(item['Name'])\n",
    "\n",
    "\n"
   ]
  },
  {
   "cell_type": "code",
   "execution_count": null,
   "id": "5e98f261-c544-4390-b788-9942ce0213cf",
   "metadata": {},
   "outputs": [],
   "source": []
  }
 ],
 "metadata": {
  "kernelspec": {
   "display_name": "Python 3 (ipykernel)",
   "language": "python",
   "name": "python3"
  },
  "language_info": {
   "codemirror_mode": {
    "name": "ipython",
    "version": 3
   },
   "file_extension": ".py",
   "mimetype": "text/x-python",
   "name": "python",
   "nbconvert_exporter": "python",
   "pygments_lexer": "ipython3",
   "version": "3.11.4"
  }
 },
 "nbformat": 4,
 "nbformat_minor": 5
}

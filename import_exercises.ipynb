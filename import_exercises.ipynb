{
 "cells": [
  {
   "cell_type": "code",
   "execution_count": 5,
   "id": "33522d97-db01-408f-9077-4336e4496a32",
   "metadata": {
    "tags": []
   },
   "outputs": [
    {
     "ename": "ImportError",
     "evalue": "cannot import name 'get_letter_grade' from 'import_exercises' (/Users/saulgonzalez/codeup-data-science/python-exercises/python-exercises/import_exercises.py)",
     "output_type": "error",
     "traceback": [
      "\u001b[0;31m---------------------------------------------------------------------------\u001b[0m",
      "\u001b[0;31mImportError\u001b[0m                               Traceback (most recent call last)",
      "Cell \u001b[0;32mIn[5], line 1\u001b[0m\n\u001b[0;32m----> 1\u001b[0m \u001b[38;5;28;01mfrom\u001b[39;00m \u001b[38;5;21;01mimport_exercises\u001b[39;00m \u001b[38;5;28;01mimport\u001b[39;00m get_letter_grade\n\u001b[1;32m      3\u001b[0m get_letter_grade(\u001b[38;5;241m85\u001b[39m)\n",
      "\u001b[0;31mImportError\u001b[0m: cannot import name 'get_letter_grade' from 'import_exercises' (/Users/saulgonzalez/codeup-data-science/python-exercises/python-exercises/import_exercises.py)"
     ]
    }
   ],
   "source": [
    "from import_exercises import get_letter_grade\n",
    "\n",
    "get_letter_grade(85)"
   ]
  },
  {
   "cell_type": "code",
   "execution_count": null,
   "id": "40238c9a-a506-4f02-8e7e-e83ee1884685",
   "metadata": {},
   "outputs": [],
   "source": []
  }
 ],
 "metadata": {
  "kernelspec": {
   "display_name": "Python 3 (ipykernel)",
   "language": "python",
   "name": "python3"
  },
  "language_info": {
   "codemirror_mode": {
    "name": "ipython",
    "version": 3
   },
   "file_extension": ".py",
   "mimetype": "text/x-python",
   "name": "python",
   "nbconvert_exporter": "python",
   "pygments_lexer": "ipython3",
   "version": "3.11.4"
  }
 },
 "nbformat": 4,
 "nbformat_minor": 5
}

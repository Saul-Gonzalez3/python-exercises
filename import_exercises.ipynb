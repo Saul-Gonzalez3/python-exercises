{
 "cells": [
  {
   "cell_type": "code",
   "execution_count": 6,
   "id": "33522d97-db01-408f-9077-4336e4496a32",
   "metadata": {
    "tags": []
   },
   "outputs": [],
   "source": [
    "from import_exercises import get_letter_grade as letter_grade"
   ]
  },
  {
   "cell_type": "code",
   "execution_count": 7,
   "id": "40238c9a-a506-4f02-8e7e-e83ee1884685",
   "metadata": {},
   "outputs": [
    {
     "name": "stdout",
     "output_type": "stream",
     "text": [
      "B\n"
     ]
    }
   ],
   "source": [
    "get_letter_grade(85)"
   ]
  },
  {
   "cell_type": "code",
   "execution_count": 22,
   "id": "a22aa8e7-708c-41f4-943f-014af89ede52",
   "metadata": {
    "tags": []
   },
   "outputs": [],
   "source": [
    "#How many different ways can you combine a single letter from \"abc\" with either 1, 2, or 3?\n",
    "from itertools import product"
   ]
  },
  {
   "cell_type": "code",
   "execution_count": 23,
   "id": "803a2a49-b4f4-45ee-a384-47caa73d881e",
   "metadata": {
    "tags": []
   },
   "outputs": [
    {
     "name": "stdout",
     "output_type": "stream",
     "text": [
      "('a', '1')\n",
      "('a', '2')\n",
      "('a', '3')\n",
      "('b', '1')\n",
      "('b', '2')\n",
      "('b', '3')\n",
      "('c', '1')\n",
      "('c', '2')\n",
      "('c', '3')\n"
     ]
    }
   ],
   "source": [
    "for i in product(\"abc\",\"123\"):\n",
    "    print(i)"
   ]
  },
  {
   "cell_type": "code",
   "execution_count": 24,
   "id": "73a8e021-fc45-4b44-b6ff-c23905c4f58e",
   "metadata": {
    "tags": []
   },
   "outputs": [],
   "source": [
    "#How many different combinations are there of 2 letters from \"abcd\"?\n",
    "\n",
    "from itertools import combinations"
   ]
  },
  {
   "cell_type": "code",
   "execution_count": 25,
   "id": "11a9cce9-f08b-4f29-82b7-65772e2cbda7",
   "metadata": {
    "tags": []
   },
   "outputs": [
    {
     "name": "stdout",
     "output_type": "stream",
     "text": [
      "('a', 'b')\n",
      "('a', 'c')\n",
      "('a', 'd')\n",
      "('b', 'c')\n",
      "('b', 'd')\n",
      "('c', 'd')\n"
     ]
    }
   ],
   "source": [
    "for i in combinations(\"abcd\", 2):\n",
    "    print(i)"
   ]
  },
  {
   "cell_type": "code",
   "execution_count": 27,
   "id": "041d63e5-b233-403d-a738-1c72f51d2e72",
   "metadata": {
    "tags": []
   },
   "outputs": [],
   "source": [
    "#How many different permutations are there of 2 letters from \"abcd\"?\n",
    "\n",
    "from itertools import permutations"
   ]
  },
  {
   "cell_type": "code",
   "execution_count": 29,
   "id": "b0613243-2e3c-4aab-94d0-e6a58c1d0616",
   "metadata": {
    "tags": []
   },
   "outputs": [
    {
     "name": "stdout",
     "output_type": "stream",
     "text": [
      "('a', 'b')\n",
      "('a', 'c')\n",
      "('a', 'd')\n",
      "('b', 'a')\n",
      "('b', 'c')\n",
      "('b', 'd')\n",
      "('c', 'a')\n",
      "('c', 'b')\n",
      "('c', 'd')\n",
      "('d', 'a')\n",
      "('d', 'b')\n",
      "('d', 'c')\n"
     ]
    }
   ],
   "source": [
    "for i in permutations(\"abcd\",2):\n",
    "    print(i)"
   ]
  },
  {
   "cell_type": "code",
   "execution_count": 8,
   "id": "972d36a8-6309-4955-bf5d-8373423d3f59",
   "metadata": {},
   "outputs": [],
   "source": [
    "import json\n",
    "profiles = json.load(open('profiles.json'))"
   ]
  },
  {
   "cell_type": "code",
   "execution_count": 43,
   "id": "888e7f9a-58b7-4fec-83c2-89f43369593c",
   "metadata": {
    "tags": []
   },
   "outputs": [
    {
     "name": "stdout",
     "output_type": "stream",
     "text": [
      "Number of users:  19\n"
     ]
    }
   ],
   "source": [
    "#Total number of users\n",
    "from itertools import count\n",
    "\n",
    "count = 0\n",
    "for dict in profiles:\n",
    "    count += 1\n",
    "print(\"Number of users: \",count)"
   ]
  },
  {
   "cell_type": "code",
   "execution_count": 42,
   "id": "ce999131-3aea-4c93-919d-97e3c0d53144",
   "metadata": {
    "tags": []
   },
   "outputs": [
    {
     "name": "stdout",
     "output_type": "stream",
     "text": [
      "Number of active users:  9\n"
     ]
    }
   ],
   "source": [
    "#Number of active users\n",
    "\n",
    "count = 0\n",
    "for dict in profiles:\n",
    "    if dict[\"isActive\"]:\n",
    "        count += 1\n",
    "    else:\n",
    "        continue\n",
    "print(\"Number of active users: \",count)\n"
   ]
  },
  {
   "cell_type": "code",
   "execution_count": 41,
   "id": "9fd7e3c1-659b-4b61-9747-1e62632ac326",
   "metadata": {
    "tags": []
   },
   "outputs": [
    {
     "name": "stdout",
     "output_type": "stream",
     "text": [
      "Number of inactive users:  10\n"
     ]
    }
   ],
   "source": [
    "#Number of inactive users\n",
    "\n",
    "count = 0\n",
    "for dict in profiles:\n",
    "    if dict[\"isActive\"] == False:\n",
    "        count += 1\n",
    "    else:\n",
    "        continue\n",
    "print(\"Number of inactive users: \",count)"
   ]
  },
  {
   "cell_type": "code",
   "execution_count": 179,
   "id": "06c3f3d8-c7be-4734-a6b8-6070f6ad88e1",
   "metadata": {
    "tags": []
   },
   "outputs": [
    {
     "data": {
      "text/plain": [
       "52667.02"
      ]
     },
     "execution_count": 179,
     "metadata": {},
     "output_type": "execute_result"
    }
   ],
   "source": [
    "#Grand total of balances for all users\n",
    "\n",
    "grand_total = 0 \n",
    "\n",
    "for profile in profiles:\n",
    "    clean_balance = profile['balance'].strip('$').replace(',','') #striping out string characters\n",
    "    clean_balance = float(clean_balance) #converting to float\n",
    "    grand_total = clean_balance + grand_total #adding each balance to the grand total\n",
    "    \n",
    "grand_total\n",
    "\n"
   ]
  },
  {
   "cell_type": "code",
   "execution_count": 180,
   "id": "4ad3d19c-d816-42d0-8039-4dc6e1c97ddf",
   "metadata": {
    "tags": []
   },
   "outputs": [
    {
     "name": "stdout",
     "output_type": "stream",
     "text": [
      "Average balance per user is: 2771.95\n"
     ]
    }
   ],
   "source": [
    "#Average balance per user\n",
    "\n",
    "\n",
    "average_balance = round(grand_total / len(profiles),2)\n",
    "\n",
    "\n",
    "\n",
    "print(\"Average balance per user is:\", average_balance)"
   ]
  },
  {
   "cell_type": "code",
   "execution_count": 166,
   "id": "a8c0ff28-024a-49f3-bed1-9add30fa8f0e",
   "metadata": {
    "tags": []
   },
   "outputs": [],
   "source": [
    "#User with the lowest balance\n",
    "\n",
    "balance_list =[]\n",
    "\n",
    "for profile in profiles:\n",
    "    clean_balance = profile['balance'].strip('$').replace(',','') #striping out string characters\n",
    "    clean_balance = float(clean_balance) #converting to float\n",
    "    balance_list.append(clean_balance)\n",
    "balance_list\n",
    "\n",
    "min_balance = min(balance_list)\n",
    "min_balance\n",
    "\n",
    "for profile in profiles:\n",
    "    clean_balance = profile['balance'].strip('$').replace(',','') #striping out string characters\n",
    "    clean_balance = float(clean_balance) #converting to float  \n",
    "    if clean_balance == min_balance:\n",
    "        print(profile['name'], clean_balance)\n",
    "    \n",
    "\n",
    "\n",
    "#print(\"User with the lowest balance:\", user_name, min_balances)"
   ]
  },
  {
   "cell_type": "code",
   "execution_count": null,
   "id": "d6ada904-1108-400f-a55e-c49fcae80802",
   "metadata": {},
   "outputs": [],
   "source": [
    "#User with the highest balance\n",
    "\n",
    "\n",
    "\n",
    "print(\"User with the highest balance:\", user_name)"
   ]
  },
  {
   "cell_type": "code",
   "execution_count": 172,
   "id": "e0d15397-d119-47e4-9f73-84936cb49832",
   "metadata": {
    "tags": []
   },
   "outputs": [
    {
     "name": "stdout",
     "output_type": "stream",
     "text": [
      "Most common favorite fruit: strawberry\n"
     ]
    }
   ],
   "source": [
    "#Most common favorite fruit\n",
    "\n",
    "fruit = []\n",
    "\n",
    "for dict in profiles:\n",
    "    for item in ['favoriteFruit']:\n",
    "        fruit.append(dict['favoriteFruit'])\n",
    "fruity = max(fruit, key= fruit.count)\n",
    "\n",
    "    \n",
    "    # then figure out the most common favorite fruit - probably sort in alpha order\n",
    "    \n",
    "print(\"Most common favorite fruit:\", fruity)"
   ]
  },
  {
   "cell_type": "code",
   "execution_count": 173,
   "id": "d9742bda-4df3-4ea5-89f4-d9fcc5f523ba",
   "metadata": {
    "tags": []
   },
   "outputs": [
    {
     "name": "stdout",
     "output_type": "stream",
     "text": [
      "Least most common favorite fruit: banana\n"
     ]
    }
   ],
   "source": [
    "#Least most common favorite fruit\n",
    "\n",
    "fruit = []\n",
    "\n",
    "for dict in profiles:\n",
    "    for item in ['favoriteFruit']:\n",
    "        fruit.append(dict['favoriteFruit'])\n",
    "fruity = min(fruit, key= fruit.count)\n",
    "\n",
    "\n",
    "print(\"Least most common favorite fruit:\", fruity)"
   ]
  },
  {
   "cell_type": "code",
   "execution_count": 178,
   "id": "7c6227ff-4ab4-4f4a-bc05-6f202c1285e0",
   "metadata": {
    "tags": []
   },
   "outputs": [
    {
     "data": {
      "text/plain": [
       "210"
      ]
     },
     "execution_count": 178,
     "metadata": {},
     "output_type": "execute_result"
    }
   ],
   "source": [
    "#Total number of unread messages for all users\n",
    "\n",
    "total_unread = 0\n",
    "\n",
    "for profile in profiles:\n",
    "    message = profile['greeting'].split()\n",
    "#    print(message)\n",
    "    for word in message:\n",
    "#        print(word)\n",
    "        if word.isdigit():\n",
    "            word = int(word)\n",
    "\n",
    "            total_unread = word + total_unread\n",
    "total_unread"
   ]
  },
  {
   "cell_type": "code",
   "execution_count": null,
   "id": "9e6b409b-5d08-47d5-b325-b38c7b03b587",
   "metadata": {
    "tags": []
   },
   "outputs": [],
   "source": []
  },
  {
   "cell_type": "code",
   "execution_count": null,
   "id": "e0209643-1a45-489d-bf07-272bd21ae077",
   "metadata": {
    "tags": []
   },
   "outputs": [],
   "source": []
  },
  {
   "cell_type": "code",
   "execution_count": null,
   "id": "e75581d1-1678-4e53-931b-8e17fd0d9617",
   "metadata": {},
   "outputs": [],
   "source": []
  }
 ],
 "metadata": {
  "kernelspec": {
   "display_name": "Python 3 (ipykernel)",
   "language": "python",
   "name": "python3"
  },
  "language_info": {
   "codemirror_mode": {
    "name": "ipython",
    "version": 3
   },
   "file_extension": ".py",
   "mimetype": "text/x-python",
   "name": "python",
   "nbconvert_exporter": "python",
   "pygments_lexer": "ipython3",
   "version": "3.11.4"
  }
 },
 "nbformat": 4,
 "nbformat_minor": 5
}

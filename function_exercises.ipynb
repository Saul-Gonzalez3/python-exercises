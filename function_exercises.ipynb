{
 "cells": [
  {
   "cell_type": "code",
   "execution_count": 192,
   "id": "896fa584-c24d-4330-8908-b34b9e995091",
   "metadata": {
    "tags": []
   },
   "outputs": [],
   "source": [
    "#Define a function named is_two. It should accept one input and return True if the passed input is either the number or the string 2, False otherwise\n",
    "\n",
    "def is_two(char):\n",
    "    if char in (2, '2', 2.0):\n",
    "        return True\n",
    "    else:\n",
    "        return False\n",
    "    #teacher example\n",
    "    #if n in (2, '2', 2.0):\n",
    "    #    return True\n",
    "    #else:\n",
    "    #    return False\n"
   ]
  },
  {
   "cell_type": "code",
   "execution_count": 193,
   "id": "b1b5221a-75c7-4715-bf42-87ce782e326a",
   "metadata": {
    "tags": []
   },
   "outputs": [
    {
     "data": {
      "text/plain": [
       "False"
      ]
     },
     "execution_count": 193,
     "metadata": {},
     "output_type": "execute_result"
    }
   ],
   "source": [
    "is_two(3)"
   ]
  },
  {
   "cell_type": "code",
   "execution_count": 194,
   "id": "78c36182-b92f-4ac1-8937-3881a2dbbdd3",
   "metadata": {
    "tags": []
   },
   "outputs": [
    {
     "data": {
      "text/plain": [
       "True"
      ]
     },
     "execution_count": 194,
     "metadata": {},
     "output_type": "execute_result"
    }
   ],
   "source": [
    "is_two(2)"
   ]
  },
  {
   "cell_type": "code",
   "execution_count": 196,
   "id": "3641698c-49bd-4281-8628-f862173e71a6",
   "metadata": {
    "tags": []
   },
   "outputs": [
    {
     "data": {
      "text/plain": [
       "True"
      ]
     },
     "execution_count": 196,
     "metadata": {},
     "output_type": "execute_result"
    }
   ],
   "source": [
    "is_two(2.0)"
   ]
  },
  {
   "cell_type": "code",
   "execution_count": 34,
   "id": "25b0df81-aceb-4d4b-b533-cfceb80f99ae",
   "metadata": {
    "tags": []
   },
   "outputs": [],
   "source": [
    "#Define a function named is_vowel. It should return True if the passed string is a vowel, False otherwise\n",
    "\n",
    "def is_vowel(string):\n",
    "    vowels = [\"a\", \"e\", \"i\", \"o\", \"u\"]\n",
    "    for string in vowels:\n",
    "        if string in vowels:\n",
    "            return True\n",
    "        else:\n",
    "            return False\n",
    "        \n",
    "    #teacher example    \n",
    "def is_vowel(somestring):\n",
    "    #check that the arg is a str\n",
    "    if type(somestring) == str:\n",
    "        \n",
    "        # if the str is 1 char and a letter\n",
    "        if len(somestring) == 1 and somestring.isalpha():\n",
    "            \n",
    "            #return bool ans to: lower-letter in vowel list?\n",
    "            return somestring.lower() in list('aeiou')\n",
    "        \n",
    "        #return false if string fails 1 alpha-char length\n",
    "        else:\n",
    "            return False\n",
    "        \n",
    "    # returns false if input is not a str    \n",
    "    else:\n",
    "        return False"
   ]
  },
  {
   "cell_type": "code",
   "execution_count": 42,
   "id": "55123723-f28a-4c18-98b7-2873ee12d817",
   "metadata": {
    "tags": []
   },
   "outputs": [
    {
     "data": {
      "text/plain": [
       "True"
      ]
     },
     "execution_count": 42,
     "metadata": {},
     "output_type": "execute_result"
    }
   ],
   "source": [
    "is_vowel('e')"
   ]
  },
  {
   "cell_type": "code",
   "execution_count": 65,
   "id": "8dddda84-63f1-43c3-87ce-f8d42bbec969",
   "metadata": {
    "tags": []
   },
   "outputs": [],
   "source": [
    "#Define a function named is_consonant. It should return True if the passed string is a consonant, False otherwise. Use your is_vowel function to accomplish this.\n",
    "\n",
    "def is_consonant(string):\n",
    "    vowels = [\"a\", \"e\", \"i\", \"o\", \"u\"]\n",
    "    for string in string:\n",
    "        if string not in vowels:\n",
    "            return True\n",
    "        else:\n",
    "            return False\n",
    "        \n",
    "def is_consonant(somestring):\n",
    "    \"\"\"\n",
    "    This function will:\n",
    "    - intially check the input is a string\n",
    "        - and 1 char long\n",
    "        - and a letter\n",
    "            -if true, returns the opposite return of is_vowel, using the NOT operator\n",
    "            - False otherwise\n",
    "    -returns False if not a string\n",
    "    \"\"\"\n",
    "    if type(somestring) == str:\n",
    "        if len(somestring) == 1 and somestring.isalpha():\n",
    "            return (not is_vowel(somestring))\n",
    "        else:\n",
    "            return False\n",
    "    else: \n",
    "        return False\n",
    "       \n"
   ]
  },
  {
   "cell_type": "code",
   "execution_count": 69,
   "id": "4ed83997-04b2-4db0-88f8-e5128488cc6c",
   "metadata": {
    "tags": []
   },
   "outputs": [
    {
     "data": {
      "text/plain": [
       "False"
      ]
     },
     "execution_count": 69,
     "metadata": {},
     "output_type": "execute_result"
    }
   ],
   "source": [
    "is_consonant(\"e\")"
   ]
  },
  {
   "cell_type": "code",
   "execution_count": 99,
   "id": "d1ee76b7-0c7f-4514-838f-939470e28dc1",
   "metadata": {
    "tags": []
   },
   "outputs": [],
   "source": [
    "#Define a function that accepts a string that is a word. The function should capitalize the first letter of the word\n",
    "#if the word starts with a consonant.\n",
    "\n",
    "def word(string):\n",
    "    vowels = [\"a\", \"e\", \"i\", \"o\", \"u\"]\n",
    "    if string[0] not in vowels:\n",
    "        x = string.capitalize()\n",
    "        print(x)\n",
    "    else:\n",
    "        return False\n",
    "    \n",
    "#Teacher edition\n",
    "#def capitalize_starting_consonant(word):\n",
    "#    \"\"\"\n",
    "#    This function will initially check if:\n",
    "#    - input is a str\n",
    "#        - checks if 1st char of the input is a consonant\n",
    "#            - if True, returns the inputted string w/1st char Capitalized\n",
    "#            - False otherwise\n",
    "#        - returns False if not a string\n",
    "#    \"\"\"\n",
    "#    if type(word) == str:\n",
    "#        if is_consonant(word[0]):\n",
    "#            return word.capitalize()\n",
    "#        else:\n",
    "#            return f\"{word} doesn't start with a consonant.\"\n",
    "#    else:\n",
    "#        return f\"{word} isn't a string.\""
   ]
  },
  {
   "cell_type": "code",
   "execution_count": 102,
   "id": "170bb021-2a73-4ec8-9cf1-de0234a1211a",
   "metadata": {
    "tags": []
   },
   "outputs": [
    {
     "name": "stdout",
     "output_type": "stream",
     "text": [
      "Cactus\n"
     ]
    }
   ],
   "source": [
    "word(\"cactus\")"
   ]
  },
  {
   "cell_type": "code",
   "execution_count": 112,
   "id": "7c012d4b-fc46-44d6-902c-84d7c01f9cba",
   "metadata": {
    "tags": []
   },
   "outputs": [],
   "source": [
    "#Define a function named calculate_tip. It should accept a tip percentage (a number between 0 and 1) and \n",
    "#the bill total, and return the amount to tip.\n",
    "\n",
    "def calculate_tip(num = float, num2 = float):\n",
    "    tip_percentage = num\n",
    "    bill_total = num2\n",
    "    return tip_percentage * bill_total\n",
    "    "
   ]
  },
  {
   "cell_type": "code",
   "execution_count": 114,
   "id": "9f5c3dcd-7864-4de0-bd52-fefd045891a7",
   "metadata": {
    "tags": []
   },
   "outputs": [
    {
     "data": {
      "text/plain": [
       "7.5"
      ]
     },
     "execution_count": 114,
     "metadata": {},
     "output_type": "execute_result"
    }
   ],
   "source": [
    "calculate_tip(.50,15.00)"
   ]
  },
  {
   "cell_type": "code",
   "execution_count": 115,
   "id": "0d697715-ed06-49b3-abc8-d0c4ddb663af",
   "metadata": {
    "tags": []
   },
   "outputs": [],
   "source": [
    "#Define a function named apply_discount. It should accept a original price, and a discount percentage, \n",
    "#and return the price after the discount is applied.\n",
    "\n",
    "def apply_discount(num, num2):\n",
    "    o_price = num\n",
    "    disc_perc = num2\n",
    "    return (o_price - (o_price * disc_perc))\n"
   ]
  },
  {
   "cell_type": "code",
   "execution_count": 120,
   "id": "440f7fb9-a539-4dcc-a224-87c342906cef",
   "metadata": {
    "tags": []
   },
   "outputs": [
    {
     "data": {
      "text/plain": [
       "70.0"
      ]
     },
     "execution_count": 120,
     "metadata": {},
     "output_type": "execute_result"
    }
   ],
   "source": [
    "apply_discount(100,.30)"
   ]
  },
  {
   "cell_type": "code",
   "execution_count": 182,
   "id": "1cd9972e-4836-44d8-b9da-3daccf66f2ac",
   "metadata": {
    "tags": []
   },
   "outputs": [],
   "source": [
    "#Define a function named handle_commas. It should accept a string that is a number that contains commas in it as input, \n",
    "#and return a number as output.\n",
    "\n",
    "def handle_commas(string):\n",
    "    a = []\n",
    "    for s in string:\n",
    "        a.append(s)\n",
    "    for index, n in enumerate(a):\n",
    "        if n == \",\":\n",
    "            a[index] = \"_\"\n",
    "    numb = ''.join(map(str, a))\n",
    "    return numb\n",
    "\n",
    "#Teacher edition\n",
    "def handle_commas(fakenum):\n",
    "    \"\"\"\n",
    "    This function will:\n",
    "    - check if input is a string\n",
    "        -removes any commas\n",
    "        -check if the stripped input is a digit\n",
    "            - if True, returns input as an integer\n",
    "            -False otherwise\n",
    "    - if not a string, returns false stmt\n",
    "    \"\"\"\n",
    "    if type(fakenum) == str:\n",
    "        stripfakenum = fakenum.replace(\",\", \"\")\n",
    "        if stripfakenum.isdigit():\n",
    "            return int(stripfakenum)\n",
    "        else:\n",
    "            return False\n",
    "    else:\n",
    "        False"
   ]
  },
  {
   "cell_type": "code",
   "execution_count": 183,
   "id": "740b7f6b-be8b-49e2-beca-0495de7bf932",
   "metadata": {
    "tags": []
   },
   "outputs": [
    {
     "data": {
      "text/plain": [
       "'5_000'"
      ]
     },
     "execution_count": 183,
     "metadata": {},
     "output_type": "execute_result"
    }
   ],
   "source": [
    "handle_commas(\"5,000\")"
   ]
  },
  {
   "cell_type": "code",
   "execution_count": 184,
   "id": "583d0c6b-4dd4-49f8-9054-30a02e505ecc",
   "metadata": {
    "tags": []
   },
   "outputs": [
    {
     "data": {
      "text/plain": [
       "'3_586_394'"
      ]
     },
     "execution_count": 184,
     "metadata": {},
     "output_type": "execute_result"
    }
   ],
   "source": [
    "handle_commas(\"3,586,394\")"
   ]
  },
  {
   "cell_type": "code",
   "execution_count": 56,
   "id": "894cb59c-6f36-40b0-a3cf-9cad65c28261",
   "metadata": {},
   "outputs": [],
   "source": [
    "#Define a function named get_letter_grade. It should accept a number and \n",
    "#return the letter grade associated with that number (A-F)\n",
    "\n",
    "def get_letter_grade(num):\n",
    "    grade = ''\n",
    "    if num in range(60):\n",
    "        grade = \"F\"\n",
    "    elif num in range(61,69):\n",
    "        grade = \"D\"\n",
    "    elif num in range(70,79):\n",
    "        grade = \"C\"\n",
    "    elif num in range(80,89):\n",
    "        grade = \"B\"\n",
    "    else:\n",
    "        grade = \"A\"\n",
    "    print(grade)\n",
    "    "
   ]
  },
  {
   "cell_type": "code",
   "execution_count": 57,
   "id": "098c6f0f-5740-43db-bbf7-51e9fa8c4a26",
   "metadata": {
    "tags": []
   },
   "outputs": [
    {
     "name": "stdout",
     "output_type": "stream",
     "text": [
      "c\n"
     ]
    }
   ],
   "source": [
    "get_letter_grade(77)"
   ]
  },
  {
   "cell_type": "code",
   "execution_count": 58,
   "id": "f549ef6e-2d8f-4b8d-a1b7-0a8fc785ecd8",
   "metadata": {
    "tags": []
   },
   "outputs": [
    {
     "name": "stdout",
     "output_type": "stream",
     "text": [
      "A\n"
     ]
    }
   ],
   "source": [
    "get_letter_grade(95)"
   ]
  },
  {
   "cell_type": "code",
   "execution_count": 186,
   "id": "89fbad54-99a5-4f2c-b851-fdeaeef8fd20",
   "metadata": {
    "tags": []
   },
   "outputs": [],
   "source": [
    "#Define a function named remove_vowels that accepts a string and returns a \n",
    "#string with all the vowels removed\n",
    "\n",
    "def remove_vowels(string):\n",
    "    a = []\n",
    "    vowels = [\"a\", \"e\", \"i\", \"o\", \"u\"]\n",
    "    for letter in string:\n",
    "        if letter not in vowels:\n",
    "            a.append(letter)\n",
    "    final_string = ''.join(a)\n",
    "    return final_string\n",
    "\n",
    "#teacher edition\n",
    "#    def remove_vowels(word):\n",
    "#        new_word = ''\n",
    "#        for letter in word:\n",
    "#            if not is_vowel(letter):\n",
    "#                new_word += letter\n",
    "#                return new_word"
   ]
  },
  {
   "cell_type": "code",
   "execution_count": 187,
   "id": "6b9bbe64-e040-4cd7-801e-4467d858c360",
   "metadata": {
    "tags": []
   },
   "outputs": [
    {
     "data": {
      "text/plain": [
       "'lbstr'"
      ]
     },
     "execution_count": 187,
     "metadata": {},
     "output_type": "execute_result"
    }
   ],
   "source": [
    "remove_vowels(\"alabaster\")"
   ]
  },
  {
   "cell_type": "code",
   "execution_count": 189,
   "id": "b3169003-49a8-4014-b94c-c5f102fd556e",
   "metadata": {},
   "outputs": [],
   "source": [
    "#Define a function named normalize_name\n",
    "\n",
    "    \n",
    "    \n",
    "#Teacher edition\n",
    "def normalize_name(somestring):\n",
    "    # intialize an empty string called newstring\n",
    "    newstring = \"\"\n",
    "    \n",
    "    # Iterate over each char in somestring after removing leading & trailing whitespace\n",
    "    for letter in somestring.strip():\n",
    "        \n",
    "        # check if the char is alphanum or a space\n",
    "        if letter.isalnum() or letter == \" \":\n",
    "            \n",
    "            #if it is, append ch to the newstring\n",
    "            newstring += letter\n",
    "    # iterate over ea char in the newstring\n",
    "    for letter in newstring:\n",
    "        #check if the char is alphabetic\n",
    "        if letter.isalpha():\n",
    "            #if alpha char is found, exit the loop\n",
    "            break\n",
    "        else:\n",
    "            #if the char is not alphanum, remove it from the beginning of the newstring\n",
    "            newstring = newstring[1:]\n",
    "            \n",
    "    #convert the newstring to lowercase & replace any spaces with underscores\n",
    "    #then return the mod newstring as the result\n",
    "    return newstring.lower().replace(\" \", \"_\")"
   ]
  },
  {
   "cell_type": "code",
   "execution_count": 190,
   "id": "55db3eae-d50d-4313-a5cf-9303286d64ba",
   "metadata": {
    "tags": []
   },
   "outputs": [
    {
     "data": {
      "text/plain": [
       "'king'"
      ]
     },
     "execution_count": 190,
     "metadata": {},
     "output_type": "execute_result"
    }
   ],
   "source": [
    "normalize_name(\"5King\")"
   ]
  },
  {
   "cell_type": "code",
   "execution_count": 191,
   "id": "3684f994-5bca-4f7e-a757-5627bf6cc246",
   "metadata": {
    "tags": []
   },
   "outputs": [
    {
     "data": {
      "text/plain": [
       "'king_v500'"
      ]
     },
     "execution_count": 191,
     "metadata": {},
     "output_type": "execute_result"
    }
   ],
   "source": [
    "normalize_name(\"5King, V50<0 \")"
   ]
  },
  {
   "cell_type": "code",
   "execution_count": 188,
   "id": "369d1482-9161-4c7c-9c37-d71cf2a345b6",
   "metadata": {
    "tags": []
   },
   "outputs": [],
   "source": [
    "#Write a function named cumulative_sum that accepts a list of numbers and returns a list that is the cumulative \n",
    "#sum of the numbers in the list.\n",
    "#\n",
    "#cumulative_sum([1, 1, 1]) returns [1, 2, 3]\n",
    "#cumulative_sum([1, 2, 3, 4]) returns [1, 3, 6, 10]\n",
    "\n",
    "def cumulative_sum(oldlist):\n",
    "    \n",
    "    newlist= []\n",
    "    c_sum = 0\n",
    "    for num in oldlist:\n",
    "        c_sum += num\n",
    "        #print(f\"cumulative: {c_sum}\")\n",
    "        newlist.append(c_sum)\n",
    "        #print(f\"newlist: {newlist}\")\n",
    "    return newlist\n",
    "\n",
    "    \n",
    "    \n",
    "\n",
    "        "
   ]
  },
  {
   "cell_type": "code",
   "execution_count": 181,
   "id": "ce684838-91e5-4337-a314-99262ae21e93",
   "metadata": {
    "tags": []
   },
   "outputs": [
    {
     "data": {
      "text/plain": [
       "[3, 9, 11]"
      ]
     },
     "execution_count": 181,
     "metadata": {},
     "output_type": "execute_result"
    }
   ],
   "source": [
    "cumulative_sum([3,6,2])"
   ]
  },
  {
   "cell_type": "code",
   "execution_count": null,
   "id": "662ffc36-b974-4461-a38c-643322a1f6ae",
   "metadata": {},
   "outputs": [],
   "source": []
  }
 ],
 "metadata": {
  "kernelspec": {
   "display_name": "Python 3 (ipykernel)",
   "language": "python",
   "name": "python3"
  },
  "language_info": {
   "codemirror_mode": {
    "name": "ipython",
    "version": 3
   },
   "file_extension": ".py",
   "mimetype": "text/x-python",
   "name": "python",
   "nbconvert_exporter": "python",
   "pygments_lexer": "ipython3",
   "version": "3.11.4"
  }
 },
 "nbformat": 4,
 "nbformat_minor": 5
}

{
 "cells": [
  {
   "cell_type": "code",
   "execution_count": 2,
   "id": "8a8663c3-64c8-4047-8571-3063595446bd",
   "metadata": {},
   "outputs": [
    {
     "data": {
      "text/plain": [
       "dict"
      ]
     },
     "execution_count": 2,
     "metadata": {},
     "output_type": "execute_result"
    }
   ],
   "source": [
    "type(99.9)\n",
    "type(\"False\")\n",
    "type(False)\n",
    "type('0')\n",
    "type(0)\n",
    "type(True)\n",
    "type('True')\n",
    "type([{}])\n",
    "type({'a': []})"
   ]
  },
  {
   "cell_type": "code",
   "execution_count": 4,
   "id": "3a7a33af-3636-4101-95dc-0d87be890c51",
   "metadata": {
    "tags": []
   },
   "outputs": [],
   "source": [
    "#A term or phrase typed into a search box\n",
    "#A) string\n",
    "\n",
    "#Whether or not a user is logged in\n",
    "#A) boolean\n",
    "\n",
    "#A discount amount to apply to a user's shopping cart\n",
    "#A) Float\n",
    "\n",
    "#Whether or not a coupon code is valid\n",
    "#A) Boolean True or False\n",
    "\n",
    "#An email address typed into a registration form\n",
    "#A) string\n",
    "\n",
    "#The price of a product\n",
    "#A) Float\n",
    "\n",
    "#The email addresses collected from a registration form\n",
    "#A) list\n",
    "\n",
    "#Information about applicants to Codeup's data science program\n",
    "#A) dictionary"
   ]
  },
  {
   "cell_type": "code",
   "execution_count": null,
   "id": "765ee6ae-3708-45dd-80fc-2029f70afe24",
   "metadata": {
    "tags": []
   },
   "outputs": [],
   "source": []
  },
  {
   "cell_type": "code",
   "execution_count": 11,
   "id": "ed91a570-b414-4c35-b620-a44ec69c3bb7",
   "metadata": {
    "tags": []
   },
   "outputs": [
    {
     "data": {
      "text/plain": [
       "27"
      ]
     },
     "execution_count": 11,
     "metadata": {},
     "output_type": "execute_result"
    }
   ],
   "source": [
    "the_little_mermaid = 3\n",
    "brother_bear = 5\n",
    "hercules = 1\n",
    "rent = 3\n",
    "rent * (brother_bear + hercules + rent)"
   ]
  },
  {
   "cell_type": "code",
   "execution_count": 15,
   "id": "747af684-b38c-4742-9659-6cd4b07e391f",
   "metadata": {
    "tags": []
   },
   "outputs": [
    {
     "data": {
      "text/plain": [
       "7420"
      ]
     },
     "execution_count": 15,
     "metadata": {},
     "output_type": "execute_result"
    }
   ],
   "source": [
    "google = 400\n",
    "amazon = 380\n",
    "facebook = 350\n",
    "payment = (facebook * 10) + (google * 6) + (amazon * 4)\n",
    "payment"
   ]
  },
  {
   "cell_type": "code",
   "execution_count": 17,
   "id": "364215b4-ded8-404a-ba85-95921a7e0111",
   "metadata": {
    "tags": []
   },
   "outputs": [
    {
     "name": "stdout",
     "output_type": "stream",
     "text": [
      "True\n",
      "False\n",
      "False\n",
      "False\n"
     ]
    }
   ],
   "source": [
    "# A student can be enrolled to a class only if the class is not full and the class schedule does not conflict with her current schedule\n",
    "student_in_class = True\n",
    "class_is_not_full = True\n",
    "class_is_full = False\n",
    "class_schedule_does_not_conflict = True\n",
    "class_schedule_conflicts = False\n",
    "\n",
    "print(student_in_class == class_is_not_full and class_schedule_does_not_conflict)\n",
    "print(student_in_class == class_is_not_full and class_schedule_conflicts)\n",
    "print(student_in_class == class_is_full and class_schedule_does_not_conflict)\n",
    "print(student_in_class == class_is_full and class_schedule_conflicts)"
   ]
  },
  {
   "cell_type": "code",
   "execution_count": 27,
   "id": "7877e007-628b-4b55-a2e7-6b109041a5eb",
   "metadata": {
    "tags": []
   },
   "outputs": [
    {
     "name": "stdout",
     "output_type": "stream",
     "text": [
      "True\n",
      "True\n",
      "True\n",
      "False\n",
      "False\n"
     ]
    }
   ],
   "source": [
    "#A product offer can be applied only if people buys more than 2 items, and the offer has not expired. Premium members do not need to buy a specific amount of products\n",
    "product_offer_applied = True\n",
    "people_buys_more_than_2_items = True\n",
    "premium_member_exempt = True\n",
    "people_buys_less_than_2_items = False\n",
    "offer_expired = False\n",
    "offer_not_expired = True\n",
    "\n",
    "print(product_offer_applied == (people_buys_more_than_2_items and offer_not_expired))\n",
    "print(product_offer_applied == (people_buys_more_than_2_items and offer_expired) or premium_member_exempt)\n",
    "print(product_offer_applied == (people_buys_less_than_2_items and offer_expired) or premium_member_exempt)\n",
    "print(product_offer_applied == (people_buys_more_than_2_items and offer_expired))\n",
    "print(product_offer_applied == (people_buys_less_than_2_items and offer_expired))\n"
   ]
  },
  {
   "cell_type": "code",
   "execution_count": null,
   "id": "cdc04ea6-bb92-4650-a6ac-b75949e86494",
   "metadata": {},
   "outputs": [],
   "source": [
    "#username = 'codeup'\n",
    "#password = 'notastrongpassword'\n",
    "#\n",
    "#\n",
    "#Create a variable that holds a boolean value for each of the following conditions:\n",
    "#\n",
    "#The password must be at least 5 characters\n",
    "#The username must be no more than 20 characters\n",
    "#The password must not be the same as the username\n",
    "\n"
   ]
  },
  {
   "cell_type": "code",
   "execution_count": 6,
   "id": "494712d0-523c-4b30-858f-ec939f2dadf4",
   "metadata": {},
   "outputs": [],
   "source": [
    "username = '' \n",
    "password = ''\n",
    "username == len(username) <= 20\n",
    "password == (len(password) >= 5) and (password != username)"
   ]
  },
  {
   "cell_type": "code",
   "execution_count": null,
   "id": "ca854167-9ad9-46d8-836e-b57490498a1f",
   "metadata": {},
   "outputs": [],
   "source": []
  },
  {
   "cell_type": "code",
   "execution_count": null,
   "id": "927b1ce8-be24-46b1-b2a7-4ff26ac3f034",
   "metadata": {},
   "outputs": [],
   "source": []
  }
 ],
 "metadata": {
  "kernelspec": {
   "display_name": "Python 3 (ipykernel)",
   "language": "python",
   "name": "python3"
  },
  "language_info": {
   "codemirror_mode": {
    "name": "ipython",
    "version": 3
   },
   "file_extension": ".py",
   "mimetype": "text/x-python",
   "name": "python",
   "nbconvert_exporter": "python",
   "pygments_lexer": "ipython3",
   "version": "3.11.4"
  }
 },
 "nbformat": 4,
 "nbformat_minor": 5
}

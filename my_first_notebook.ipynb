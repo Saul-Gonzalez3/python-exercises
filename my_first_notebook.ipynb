{
 "cells": [
  {
   "cell_type": "code",
   "execution_count": null,
   "id": "4b8ab094-bf95-412b-bde6-8527157350f4",
   "metadata": {},
   "outputs": [],
   "source": [
    "Typing A adds a row above"
   ]
  },
  {
   "cell_type": "code",
   "execution_count": null,
   "id": "7d0df738-bd86-426d-a69b-30b9f87a4661",
   "metadata": {},
   "outputs": [],
   "source": [
    "Typing B adds a row below"
   ]
  },
  {
   "cell_type": "code",
   "execution_count": null,
   "id": "ee1285c1-3e5f-48bc-932b-b5ec16c7caa3",
   "metadata": {},
   "outputs": [],
   "source": [
    "Typing C copys a row"
   ]
  }
 ],
 "metadata": {
  "kernelspec": {
   "display_name": "Python 3 (ipykernel)",
   "language": "python",
   "name": "python3"
  },
  "language_info": {
   "codemirror_mode": {
    "name": "ipython",
    "version": 3
   },
   "file_extension": ".py",
   "mimetype": "text/x-python",
   "name": "python",
   "nbconvert_exporter": "python",
   "pygments_lexer": "ipython3",
   "version": "3.11.4"
  }
 },
 "nbformat": 4,
 "nbformat_minor": 5
}
